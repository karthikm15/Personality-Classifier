{
 "cells": [
  {
   "cell_type": "code",
   "execution_count": 1,
   "metadata": {},
   "outputs": [],
   "source": [
    "import collections\n",
    "from collections import OrderedDict\n",
    "FACIAL_LANDMARKS_IDXS = OrderedDict([\n",
    "    (\"mouth\", (48, 68)),\n",
    "    ('inner_mouth', (60, 68)),\n",
    "    (\"right_eyebrow\", (17, 22)),\n",
    "    (\"left_eyebrow\", (22, 27)),\n",
    "    (\"right_eye\", (36, 42)),\n",
    "    (\"left_eye\", (42, 48)),\n",
    "    (\"nose\", (27, 35)),\n",
    "    (\"jaw\", (0, 17))\n",
    "])"
   ]
  },
  {
   "cell_type": "code",
   "execution_count": 2,
   "metadata": {},
   "outputs": [
    {
     "name": "stdout",
     "output_type": "stream",
     "text": [
      "rectangles[[(428, 502) (1093, 1168)]]\n"
     ]
    }
   ],
   "source": [
    "# import the necessary packages\n",
    "from imutils import face_utils\n",
    "import numpy as np\n",
    "import argparse\n",
    "import imutils\n",
    "import dlib\n",
    "import cv2\n",
    "# construct the argument parser and parse the arguments\n",
    "# ap = argparse.ArgumentParser()\n",
    "# ap.add_argument(\"-p\", \"--shape-predictor\", required=True,\n",
    "# \thelp=\"path to facial landmark predictor\")\n",
    "# ap.add_argument(\"-i\", \"--image\", required=True,\n",
    "# \thelp=\"path to input image\")\n",
    "# args = vars(ap.parse_args())\n",
    "# initialize dlib's face detector (HOG-based) and then create\n",
    "# the facial landmark predictor\n",
    "\n",
    "detector = dlib.get_frontal_face_detector()\n",
    "predictor = dlib.shape_predictor('./shape_predictor_68_face_landmarks.dat')\n",
    "# load the input image, resize it, and convert it to grayscale\n",
    "image = cv2.imread('./wideset.jpg')\n",
    "image = imutils.resize(image, width=1500, height=1500)\n",
    "gray = cv2.cvtColor(image, cv2.COLOR_BGR2GRAY)\n",
    "# detect faces in the grayscale image\n",
    "rects = detector(gray, 1)\n",
    "print(rects)"
   ]
  },
  {
   "cell_type": "code",
   "execution_count": null,
   "metadata": {},
   "outputs": [
    {
     "name": "stdout",
     "output_type": "stream",
     "text": [
      "('right_eye', (36, 42))\n",
      "(517, 713)\n",
      "(556, 686)\n",
      "(606, 688)\n",
      "(648, 725)\n",
      "(602, 738)\n",
      "(552, 737)\n"
     ]
    }
   ],
   "source": [
    "for (i, rect) in enumerate(rects):\n",
    "    # determine the facial landmarks for the face region, then\n",
    "    # convert the landmark (x, y)-coordinates to a NumPy array\n",
    "    shape = predictor(gray, rect)\n",
    "    shape = face_utils.shape_to_np(shape)\n",
    "    # loop over the face parts individually\n",
    "    a_dict = face_utils.FACIAL_LANDMARKS_IDXS.items()\n",
    "    tuple_list = list(a_dict)\n",
    "    key_value = tuple_list[4]\n",
    "    print(key_value)\n",
    "    \n",
    "    name = key_value[0]\n",
    "    i = key_value[1][0]\n",
    "    j = key_value[1][1]\n",
    "    # clone the original image so we can draw on it, then\n",
    "    # display the name of the face part on the image\n",
    "    clone = image.copy()\n",
    "    cv2.putText(clone, name, (10, 30), cv2.FONT_HERSHEY_SIMPLEX,\n",
    "        0.7, (0, 0, 255), 2)\n",
    "    # loop over the subset of facial landmarks, drawing the\n",
    "    # specific face part\n",
    "    for (x, y) in shape[i:j]:\n",
    "        cv2.circle(clone, (x, y), 1, (0, 0, 255), -1)\n",
    "        print((x,y))\n",
    "    # extract the ROI of the face region as a separate image\n",
    "    (x, y, w, h) = cv2.boundingRect(np.array([shape[i:j]]))\n",
    "    roi = image[y:y + h, x:x + w]\n",
    "    roi = imutils.resize(roi, width=250, inter=cv2.INTER_CUBIC)\n",
    "    cv2.imwrite('./image_eye.jpg', roi)\n",
    "    \n",
    "    # show the particular face part\n",
    "    cv2.imshow(\"ROI\", roi)\n",
    "    cv2.imshow(\"Image\", clone)\n",
    "    cv2.waitKey(0)\n",
    "    # visualize all facial landmarks with a transparent overlay\n",
    "    output = face_utils.visualize_facial_landmarks(image, shape)\n",
    "#     cv2.imwrite('./image_eye.jpg', output)\n",
    "    cv2.imshow(\"Image\", output)\n",
    "    cv2.waitKey(0)\n",
    "    break"
   ]
  },
  {
   "cell_type": "code",
   "execution_count": null,
   "metadata": {},
   "outputs": [],
   "source": [
    "print(stacked_coors)"
   ]
  },
  {
   "cell_type": "code",
   "execution_count": null,
   "metadata": {},
   "outputs": [],
   "source": []
  }
 ],
 "metadata": {
  "kernelspec": {
   "display_name": "Python 3",
   "language": "python",
   "name": "python3"
  },
  "language_info": {
   "codemirror_mode": {
    "name": "ipython",
    "version": 3
   },
   "file_extension": ".py",
   "mimetype": "text/x-python",
   "name": "python",
   "nbconvert_exporter": "python",
   "pygments_lexer": "ipython3",
   "version": "3.7.3"
  }
 },
 "nbformat": 4,
 "nbformat_minor": 4
}
