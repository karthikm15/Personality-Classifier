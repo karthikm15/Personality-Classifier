{
 "cells": [
  {
   "cell_type": "code",
   "execution_count": 21,
   "metadata": {},
   "outputs": [],
   "source": [
    "import collections\n",
    "from collections import OrderedDict\n",
    "FACIAL_LANDMARKS_IDXS = OrderedDict([\n",
    "    (\"mouth\", (48, 68)),\n",
    "    ('inner_mouth', (60, 68)),\n",
    "    (\"right_eyebrow\", (17, 22)),\n",
    "    (\"left_eyebrow\", (22, 27)),\n",
    "    (\"right_eye\", (36, 42)),\n",
    "    (\"left_eye\", (42, 48)),\n",
    "    (\"nose\", (27, 35)),\n",
    "    (\"jaw\", (0, 17))\n",
    "])"
   ]
  },
  {
   "cell_type": "code",
   "execution_count": 22,
   "metadata": {},
   "outputs": [
    {
     "name": "stdout",
     "output_type": "stream",
     "text": [
      "rectangles[[(110, 110) (664, 665)]]\n"
     ]
    }
   ],
   "source": [
    "# import the necessary packages\n",
    "from imutils import face_utils\n",
    "import numpy as np\n",
    "import argparse\n",
    "import imutils\n",
    "import dlib\n",
    "import cv2\n",
    "# construct the argument parser and parse the arguments\n",
    "# ap = argparse.ArgumentParser()\n",
    "# ap.add_argument(\"-p\", \"--shape-predictor\", required=True,\n",
    "# \thelp=\"path to facial landmark predictor\")\n",
    "# ap.add_argument(\"-i\", \"--image\", required=True,\n",
    "# \thelp=\"path to input image\")\n",
    "# args = vars(ap.parse_args())\n",
    "# initialize dlib's face detector (HOG-based) and then create\n",
    "# the facial landmark predictor\n",
    "\n",
    "detector = dlib.get_frontal_face_detector()\n",
    "predictor = dlib.shape_predictor('./shape_predictor_68_face_landmarks.dat')\n",
    "# load the input image, resize it, and convert it to grayscale\n",
    "image = cv2.imread('./closeset.jpg')\n",
    "image = imutils.resize(image, width=1500, height=1500)\n",
    "gray = cv2.cvtColor(image, cv2.COLOR_BGR2GRAY)\n",
    "# detect faces in the grayscale image\n",
    "rects = detector(gray, 1)\n",
    "print(rects)"
   ]
  },
  {
   "cell_type": "code",
   "execution_count": 23,
   "metadata": {},
   "outputs": [
    {
     "name": "stdout",
     "output_type": "stream",
     "text": [
      "0\n",
      "('mouth', (48, 68))\n",
      "('inner_mouth', (60, 68))\n",
      "('right_eyebrow', (17, 22))\n",
      "('left_eyebrow', (22, 27))\n",
      "('right_eye', (36, 42))\n",
      "('left_eye', (42, 48))\n",
      "('nose', (27, 36))\n",
      "('jaw', (0, 17))\n"
     ]
    }
   ],
   "source": [
    "stacked_coors = []\n",
    "for (index, rect) in enumerate(rects):\n",
    "#     print(rect)\n",
    "    print(index)\n",
    "    shape = predictor(gray, rect)\n",
    "    shape = face_utils.shape_to_np(shape)\n",
    "    \n",
    "    a_dict = face_utils.FACIAL_LANDMARKS_IDXS.items()\n",
    "    tuple_list = list(a_dict)\n",
    "#     print(tuple_list)\n",
    "#     stacked_coors.append({\"mouth\" : [], # mouth\n",
    "#              \"inner_mouth\" : [],\n",
    "#              \"right_eyebrow\" : [], # right_eyebrow\n",
    "#              \"left_eyebrow\" : [], # left_eyebrow\n",
    "#              \"right_eye\" : [], # right_eye\n",
    "#              \"left_eye\" : [], # left_eye\n",
    "#              \"nose\" : [], # nose\n",
    "#              \"jaw\" : []})\n",
    "    for f in range(len(tuple_list)):\n",
    "        key_value = tuple_list[f]\n",
    "        print(key_value)\n",
    "        name = key_value[0]\n",
    "    \n",
    "        i = key_value[1][0]\n",
    "        j = key_value[1][1]\n",
    "        \n",
    "        for (x, y) in shape[i:j]:\n",
    "            stacked_coors.append((x,y))"
   ]
  },
  {
   "cell_type": "code",
   "execution_count": 24,
   "metadata": {},
   "outputs": [],
   "source": [
    "# for (i, rect) in enumerate(rects):\n",
    "#     # determine the facial landmarks for the face region, then\n",
    "#     # convert the landmark (x, y)-coordinates to a NumPy array\n",
    "#     shape = predictor(gray, rect)\n",
    "#     shape = face_utils.shape_to_np(shape)\n",
    "#     # loop over the face parts individually\n",
    "#     a_dict = face_utils.FACIAL_LANDMARKS_IDXS.items()\n",
    "#     tuple_list = list(a_dict)\n",
    "#     key_value = tuple_list[4]\n",
    "#     print(key_value)\n",
    "    \n",
    "#     name = key_value[0]\n",
    "#     i = key_value[1][0]\n",
    "#     j = key_value[1][1]\n",
    "#     # clone the original image so we can draw on it, then\n",
    "#     # display the name of the face part on the image\n",
    "#     clone = image.copy()\n",
    "#     cv2.putText(clone, name, (10, 30), cv2.FONT_HERSHEY_SIMPLEX,\n",
    "#         0.7, (0, 0, 255), 2)\n",
    "#     # loop over the subset of facial landmarks, drawing the\n",
    "#     # specific face part\n",
    "#     for (x, y) in shape[i:j]:\n",
    "#         cv2.circle(clone, (x, y), 1, (0, 0, 255), -1)\n",
    "#         print((x,y))\n",
    "#     # extract the ROI of the face region as a separate image\n",
    "#     (x, y, w, h) = cv2.boundingRect(np.array([shape[i:j]]))\n",
    "#     roi = image[y:y + h, x:x + w]\n",
    "#     roi = imutils.resize(roi, width=250, inter=cv2.INTER_CUBIC)\n",
    "#     # show the particular face part\n",
    "#     cv2.imshow(\"ROI\", roi)\n",
    "#     cv2.imshow(\"Image\", clone)\n",
    "#     cv2.waitKey(0)\n",
    "#     # visualize all facial landmarks with a transparent overlay\n",
    "#     output = face_utils.visualize_facial_landmarks(image, shape)\n",
    "#     cv2.imshow(\"Image\", output)\n",
    "#     cv2.waitKey(0)"
   ]
  },
  {
   "cell_type": "code",
   "execution_count": 25,
   "metadata": {},
   "outputs": [
    {
     "name": "stdout",
     "output_type": "stream",
     "text": [
      "[(258, 492), (301, 486), (338, 483), (370, 491), (403, 484), (444, 488), (494, 493), (442, 527), (398, 540), (364, 542), (330, 538), (295, 525), (279, 499), (337, 510), (370, 514), (402, 512), (471, 500), (399, 505), (365, 508), (333, 504), (279, 499), (337, 510), (370, 514), (402, 512), (471, 500), (399, 505), (365, 508), (333, 504), (156, 182), (191, 154), (238, 143), (286, 151), (333, 173), (421, 179), (478, 158), (536, 153), (592, 170), (634, 206), (215, 233), (243, 208), (282, 210), (312, 243), (277, 249), (239, 248), (457, 249), (488, 218), (530, 218), (563, 244), (531, 257), (491, 256), (375, 231), (371, 281), (367, 332), (364, 382), (323, 418), (344, 427), (367, 436), (392, 427), (418, 420), (138, 259), (137, 328), (139, 400), (145, 472), (167, 537), (202, 593), (247, 644), (298, 690), (364, 705), (439, 696), (513, 654), (583, 608), (644, 553), (679, 486), (694, 410), (705, 336), (714, 260)]\n"
     ]
    }
   ],
   "source": [
    "print(stacked_coors)"
   ]
  },
  {
   "cell_type": "code",
   "execution_count": 26,
   "metadata": {},
   "outputs": [
    {
     "data": {
      "text/plain": [
       "76"
      ]
     },
     "execution_count": 26,
     "metadata": {},
     "output_type": "execute_result"
    }
   ],
   "source": [
    "len(stacked_coors)"
   ]
  },
  {
   "cell_type": "code",
   "execution_count": null,
   "metadata": {},
   "outputs": [],
   "source": []
  }
 ],
 "metadata": {
  "kernelspec": {
   "display_name": "Python 3",
   "language": "python",
   "name": "python3"
  },
  "language_info": {
   "codemirror_mode": {
    "name": "ipython",
    "version": 3
   },
   "file_extension": ".py",
   "mimetype": "text/x-python",
   "name": "python",
   "nbconvert_exporter": "python",
   "pygments_lexer": "ipython3",
   "version": "3.7.3"
  }
 },
 "nbformat": 4,
 "nbformat_minor": 4
}
