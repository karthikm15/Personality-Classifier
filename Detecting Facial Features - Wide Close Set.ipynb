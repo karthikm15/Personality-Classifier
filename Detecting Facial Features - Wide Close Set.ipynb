{
 "cells": [
  {
   "cell_type": "code",
   "execution_count": 30,
   "metadata": {},
   "outputs": [],
   "source": [
    "import collections\n",
    "from collections import OrderedDict\n",
    "FACIAL_LANDMARKS_IDXS = OrderedDict([\n",
    "    (\"mouth\", (48, 68)),\n",
    "    ('inner_mouth', (60, 68)),\n",
    "    (\"right_eyebrow\", (17, 22)),\n",
    "    (\"left_eyebrow\", (22, 27)),\n",
    "    (\"right_eye\", (36, 42)),\n",
    "    (\"left_eye\", (42, 48)),\n",
    "    (\"nose\", (27, 35)),\n",
    "    (\"jaw\", (0, 17))\n",
    "])"
   ]
  },
  {
   "cell_type": "code",
   "execution_count": 31,
   "metadata": {},
   "outputs": [
    {
     "name": "stdout",
     "output_type": "stream",
     "text": [
      "rectangles[[(428, 502) (1093, 1168)]]\n"
     ]
    }
   ],
   "source": [
    "# import the necessary packages\n",
    "from imutils import face_utils\n",
    "import numpy as np\n",
    "import argparse\n",
    "import imutils\n",
    "import dlib\n",
    "import cv2\n",
    "# construct the argument parser and parse the arguments\n",
    "# ap = argparse.ArgumentParser()\n",
    "# ap.add_argument(\"-p\", \"--shape-predictor\", required=True,\n",
    "# \thelp=\"path to facial landmark predictor\")\n",
    "# ap.add_argument(\"-i\", \"--image\", required=True,\n",
    "# \thelp=\"path to input image\")\n",
    "# args = vars(ap.parse_args())\n",
    "# initialize dlib's face detector (HOG-based) and then create\n",
    "# the facial landmark predictor\n",
    "\n",
    "detector = dlib.get_frontal_face_detector()\n",
    "predictor = dlib.shape_predictor('./shape_predictor_68_face_landmarks.dat')\n",
    "# load the input image, resize it, and convert it to grayscale\n",
    "image = cv2.imread('./wideset.jpg')\n",
    "image = imutils.resize(image, width=1500, height=1500)\n",
    "gray = cv2.cvtColor(image, cv2.COLOR_BGR2GRAY)\n",
    "# detect faces in the grayscale image\n",
    "rects = detector(gray, 1)\n",
    "print(rects)"
   ]
  },
  {
   "cell_type": "code",
   "execution_count": 32,
   "metadata": {},
   "outputs": [
    {
     "name": "stdout",
     "output_type": "stream",
     "text": [
      "0\n",
      "('mouth', (48, 68))\n",
      "('inner_mouth', (60, 68))\n",
      "('right_eyebrow', (17, 22))\n",
      "('left_eyebrow', (22, 27))\n",
      "('right_eye', (36, 42))\n",
      "('left_eye', (42, 48))\n",
      "('nose', (27, 36))\n",
      "('jaw', (0, 17))\n"
     ]
    }
   ],
   "source": [
    "stacked_coors = []\n",
    "for (index, rect) in enumerate(rects):\n",
    "#     print(rect)\n",
    "    print(index)\n",
    "    shape = predictor(gray, rect)\n",
    "    shape = face_utils.shape_to_np(shape)\n",
    "    \n",
    "    a_dict = face_utils.FACIAL_LANDMARKS_IDXS.items()\n",
    "    tuple_list = list(a_dict)\n",
    "#     print(tuple_list)\n",
    "    stacked_coors.append({\"mouth\" : [], # mouth\n",
    "             \"inner_mouth\" : [],\n",
    "             \"right_eyebrow\" : [], # right_eyebrow\n",
    "             \"left_eyebrow\" : [], # left_eyebrow\n",
    "             \"right_eye\" : [], # right_eye\n",
    "             \"left_eye\" : [], # left_eye\n",
    "             \"nose\" : [], # nose\n",
    "             \"jaw\" : []})\n",
    "    for f in range(len(tuple_list)):\n",
    "        key_value = tuple_list[f]\n",
    "        print(key_value)\n",
    "        name = key_value[0]\n",
    "    \n",
    "        i = key_value[1][0]\n",
    "        j = key_value[1][1]\n",
    "        \n",
    "        for (x, y) in shape[i:j]:\n",
    "            stacked_coors[index][name].append((x,y))"
   ]
  },
  {
   "cell_type": "code",
   "execution_count": 33,
   "metadata": {},
   "outputs": [],
   "source": [
    "# for (i, rect) in enumerate(rects):\n",
    "#     # determine the facial landmarks for the face region, then\n",
    "#     # convert the landmark (x, y)-coordinates to a NumPy array\n",
    "#     shape = predictor(gray, rect)\n",
    "#     shape = face_utils.shape_to_np(shape)\n",
    "#     # loop over the face parts individually\n",
    "#     a_dict = face_utils.FACIAL_LANDMARKS_IDXS.items()\n",
    "#     tuple_list = list(a_dict)\n",
    "#     key_value = tuple_list[4]\n",
    "#     print(key_value)\n",
    "    \n",
    "#     name = key_value[0]\n",
    "#     i = key_value[1][0]\n",
    "#     j = key_value[1][1]\n",
    "#     # clone the original image so we can draw on it, then\n",
    "#     # display the name of the face part on the image\n",
    "#     clone = image.copy()\n",
    "#     cv2.putText(clone, name, (10, 30), cv2.FONT_HERSHEY_SIMPLEX,\n",
    "#         0.7, (0, 0, 255), 2)\n",
    "#     # loop over the subset of facial landmarks, drawing the\n",
    "#     # specific face part\n",
    "#     for (x, y) in shape[i:j]:\n",
    "#         cv2.circle(clone, (x, y), 1, (0, 0, 255), -1)\n",
    "#         print((x,y))\n",
    "#     # extract the ROI of the face region as a separate image\n",
    "#     (x, y, w, h) = cv2.boundingRect(np.array([shape[i:j]]))\n",
    "#     roi = image[y:y + h, x:x + w]\n",
    "#     roi = imutils.resize(roi, width=250, inter=cv2.INTER_CUBIC)\n",
    "#     # show the particular face part\n",
    "#     cv2.imshow(\"ROI\", roi)\n",
    "#     cv2.imshow(\"Image\", clone)\n",
    "#     cv2.waitKey(0)\n",
    "#     # visualize all facial landmarks with a transparent overlay\n",
    "#     output = face_utils.visualize_facial_landmarks(image, shape)\n",
    "#     cv2.imshow(\"Image\", output)\n",
    "#     cv2.waitKey(0)"
   ]
  },
  {
   "cell_type": "code",
   "execution_count": 34,
   "metadata": {},
   "outputs": [
    {
     "name": "stdout",
     "output_type": "stream",
     "text": [
      "[{'mouth': [(637, 1017), (683, 999), (721, 984), (752, 989), (780, 979), (816, 986), (862, 1001), (824, 1038), (789, 1055), (758, 1061), (725, 1061), (684, 1053), (662, 1021), (722, 1012), (754, 1011), (782, 1006), (838, 1006), (785, 1008), (756, 1014), (724, 1013)], 'inner_mouth': [(662, 1021), (722, 1012), (754, 1011), (782, 1006), (838, 1006), (785, 1008), (756, 1014), (724, 1013)], 'right_eyebrow': [(448, 632), (489, 598), (546, 587), (606, 586), (664, 606)], 'left_eyebrow': [(808, 604), (866, 580), (925, 574), (983, 578), (1027, 608)], 'right_eye': [(517, 713), (556, 686), (606, 688), (648, 725), (602, 738), (552, 737)], 'left_eye': [(831, 716), (870, 676), (920, 670), (960, 693), (927, 720), (877, 724)], 'nose': [(738, 696), (740, 756), (743, 815), (746, 874), (695, 914), (721, 921), (749, 929), (775, 916), (798, 903)], 'jaw': [(401, 680), (414, 771), (437, 857), (460, 941), (489, 1020), (543, 1088), (611, 1143), (688, 1188), (766, 1197), (842, 1175), (909, 1119), (966, 1058), (1008, 988), (1029, 908), (1046, 825), (1067, 741), (1077, 652)]}]\n"
     ]
    }
   ],
   "source": [
    "print(stacked_coors)"
   ]
  },
  {
   "cell_type": "code",
   "execution_count": 35,
   "metadata": {},
   "outputs": [
    {
     "name": "stdout",
     "output_type": "stream",
     "text": [
      "[(831, 716), (870, 676), (920, 670), (960, 693), (927, 720), (877, 724)]\n",
      "[(517, 713), (556, 686), (606, 688), (648, 725), (602, 738), (552, 737)]\n"
     ]
    }
   ],
   "source": [
    "print(stacked_coors[0]['left_eye'])\n",
    "print(stacked_coors[0]['right_eye'])"
   ]
  },
  {
   "cell_type": "code",
   "execution_count": 36,
   "metadata": {},
   "outputs": [
    {
     "data": {
      "text/plain": [
       "(831, 716)"
      ]
     },
     "execution_count": 36,
     "metadata": {},
     "output_type": "execute_result"
    }
   ],
   "source": [
    "min(stacked_coors[0]['left_eye'])"
   ]
  },
  {
   "cell_type": "code",
   "execution_count": 37,
   "metadata": {},
   "outputs": [
    {
     "name": "stdout",
     "output_type": "stream",
     "text": [
      "1.6942122862325135 1.679989130549172\n",
      "['Wide Set']\n"
     ]
    }
   ],
   "source": [
    "import math\n",
    "\n",
    "# Eye Spread\n",
    "spreads = []\n",
    "for person in stacked_coors:\n",
    "    max_left_eye = max(person['left_eye'])\n",
    "    min_left_eye = min(person['left_eye'])\n",
    "    max_right_eye = max(person['right_eye'])\n",
    "    min_right_eye = min(person['right_eye'])\n",
    "    \n",
    "#     print(person['left_eye'])\n",
    "#     print(person['right_eye'])\n",
    "#     print([max_left_eye, ' ', min_left_eye, ' ', max_right_eye, ' ', min_right_eye])\n",
    "    dist_left = ( (max_left_eye[0] - min_left_eye[0])**2 + (max_left_eye[1] - min_left_eye[1])**2 )**0.5\n",
    "    dist_right = ( (max_right_eye[0] - min_right_eye[0])**2 + (max_right_eye[1] - min_right_eye[1])**2 )**0.5\n",
    "    \n",
    "    y_vals = [val[1] for val in stacked_coors[0]['nose']]\n",
    "    nose_bridge = stacked_coors[0]['nose'][y_vals.index(min(y_vals))]\n",
    "#     nose_space_left_dist = ( (nose_bridge[0] - max_left_eye[0])**2 + (max_left_eye[1] - nose_bridge[1])**2 )**0.5\n",
    "#     nose_space_right_dist = ( (nose_bridge[0] - min_right_eye[0])**2 + (min_right_eye[1] - nose_bridge[1])**2 )**0.5\n",
    "\n",
    "    nose_space_left_dist = abs(nose_bridge[0] - max_left_eye[0])\n",
    "    nose_space_right_dist = abs(nose_bridge[0] - min_right_eye[0])\n",
    "    \n",
    "#     print(nose_space_left_dist)\n",
    "#     print(dist_left)\n",
    "#     print()\n",
    "#     print(nose_space_right_dist)\n",
    "#     print(dist_right)\n",
    "    \n",
    "    print(str(nose_space_left_dist/dist_left) + \" \" + str(nose_space_right_dist/dist_right))\n",
    "    if ((nose_space_left_dist > dist_left) or (nose_space_right_dist > dist_right)):\n",
    "        spreads.append(\"Wide Set\")\n",
    "    else:\n",
    "        spreads.append(\"Close Set\")\n",
    "print(spreads)\n",
    "\n"
   ]
  },
  {
   "cell_type": "code",
   "execution_count": 38,
   "metadata": {},
   "outputs": [
    {
     "name": "stdout",
     "output_type": "stream",
     "text": [
      "6\n"
     ]
    }
   ],
   "source": [
    "y_vals = [val[1] for val in stacked_coors[0]['nose']]\n",
    "max_val = max(y_vals)\n",
    "print(y_vals.index(max_val))"
   ]
  },
  {
   "cell_type": "code",
   "execution_count": 39,
   "metadata": {},
   "outputs": [
    {
     "name": "stdout",
     "output_type": "stream",
     "text": [
      "[637, 683, 721, 752, 780, 816, 862, 824, 789, 758, 725, 684, 662, 722, 754, 782, 838, 785, 756, 724, 662, 722, 754, 782, 838, 785, 756, 724, 448, 489, 546, 606, 664, 808, 866, 925, 983, 1027, 517, 556, 606, 648, 602, 552, 831, 870, 920, 960, 927, 877, 738, 740, 743, 746, 695, 721, 749, 775, 798, 401, 414, 437, 460, 489, 543, 611, 688, 766, 842, 909, 966, 1008, 1029, 1046, 1067, 1077]\n",
      "[1017, 999, 984, 989, 979, 986, 1001, 1038, 1055, 1061, 1061, 1053, 1021, 1012, 1011, 1006, 1006, 1008, 1014, 1013, 1021, 1012, 1011, 1006, 1006, 1008, 1014, 1013, 632, 598, 587, 586, 606, 604, 580, 574, 578, 608, 713, 686, 688, 725, 738, 737, 716, 676, 670, 693, 720, 724, 696, 756, 815, 874, 914, 921, 929, 916, 903, 680, 771, 857, 941, 1020, 1088, 1143, 1188, 1197, 1175, 1119, 1058, 988, 908, 825, 741, 652]\n"
     ]
    }
   ],
   "source": [
    "x_vals = []\n",
    "y_vals = []\n",
    "for i in stacked_coors[0]:\n",
    "    for vals in stacked_coors[0][i]:\n",
    "        x_vals.append(vals[0])\n",
    "        y_vals.append(vals[1])\n",
    "print(x_vals)\n",
    "print(y_vals)"
   ]
  },
  {
   "cell_type": "code",
   "execution_count": 40,
   "metadata": {},
   "outputs": [
    {
     "data": {
      "image/png": "[encoded data removed]",
      "text/plain": [
       "<Figure size 432x288 with 2 Axes>"
      ]
     },
     "metadata": {
      "needs_background": "light"
     },
     "output_type": "display_data"
    }
   ],
   "source": [
    "import matplotlib.pyplot as plt\n",
    "\n",
    "\n",
    "fig, (ax1, ax2) = plt.subplots(1, 2)\n",
    "\n",
    "ax1.scatter(x_vals, y_vals)\n",
    "ax1.set_title(\"Normal Plot\")\n",
    "\n",
    "ax2.scatter(x_vals, y_vals)\n",
    "ax2.set_title(\"Reverted axes\")\n",
    "ax2.invert_xaxis()\n",
    "ax2.invert_yaxis()\n",
    "\n",
    "fig.tight_layout()\n",
    "plt.show()"
   ]
  },
  {
   "cell_type": "code",
   "execution_count": 41,
   "metadata": {},
   "outputs": [
    {
     "data": {
      "image/png": "[encoded data removed]",
      "text/plain": [
       "<Figure size 432x288 with 2 Axes>"
      ]
     },
     "metadata": {
      "needs_background": "light"
     },
     "output_type": "display_data"
    }
   ],
   "source": [
    "import matplotlib.pyplot as plt\n",
    "\n",
    "fig, (ax1, ax2) = plt.subplots(1, 2)\n",
    "\n",
    "ax1.scatter([max_left_eye[0], max_right_eye[0], min_left_eye[0], min_right_eye[0], nose_bridge[0]], \n",
    "            [max_left_eye[1], max_right_eye[1], min_left_eye[1], min_right_eye[1], nose_bridge[1]])\n",
    "ax1.set_title(\"Normal Plot\")\n",
    "\n",
    "ax1.set_xlim([int(min(x_vals)-100), int(max(x_vals))+100])\n",
    "ax1.set_ylim([int(min(x_vals)-100), int(max(y_vals))+100])\n",
    "\n",
    "ax2.scatter([max_left_eye[0], max_right_eye[0], min_left_eye[0], min_right_eye[0], nose_bridge[0]], \n",
    "            [max_left_eye[1], max_right_eye[1], min_left_eye[1], min_right_eye[1], nose_bridge[1]])\n",
    "ax2.set_title(\"Reverted axes\")\n",
    "\n",
    "ax2.set_xlim([int(min(x_vals)-100), int(max(x_vals))+100])\n",
    "ax2.set_ylim([int(min(y_vals)-100), int(max(y_vals))+100])\n",
    "ax2.invert_xaxis()\n",
    "ax2.invert_yaxis()\n",
    "\n",
    "fig.tight_layout()\n",
    "plt.show()"
   ]
  },
  {
   "cell_type": "code",
   "execution_count": null,
   "metadata": {},
   "outputs": [],
   "source": []
  },
  {
   "cell_type": "code",
   "execution_count": null,
   "metadata": {},
   "outputs": [],
   "source": []
  }
 ],
 "metadata": {
  "kernelspec": {
   "display_name": "Python 3",
   "language": "python",
   "name": "python3"
  },
  "language_info": {
   "codemirror_mode": {
    "name": "ipython",
    "version": 3
   },
   "file_extension": ".py",
   "mimetype": "text/x-python",
   "name": "python",
   "nbconvert_exporter": "python",
   "pygments_lexer": "ipython3",
   "version": "3.7.3"
  }
 },
 "nbformat": 4,
 "nbformat_minor": 4
}
