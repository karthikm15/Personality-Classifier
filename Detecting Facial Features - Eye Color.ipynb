{
 "cells": [
  {
   "cell_type": "code",
   "execution_count": 1,
   "metadata": {},
   "outputs": [],
   "source": [
    "# !pip install collections\n",
    "# !/Users/karthikmittal/anaconda3/bin/python -m pip install --upgrade pip\n",
    "# !pip install colormap\n",
    "# !pip install easydev\n",
    "\n",
    "from sklearn.cluster import KMeans\n",
    "import matplotlib.pyplot as plt\n",
    "import numpy as np\n",
    "import cv2\n",
    "from collections import Counter\n",
    "from skimage.color import rgb2lab, deltaE_cie76\n",
    "import os\n",
    "\n",
    "%matplotlib inline\n"
   ]
  },
  {
   "cell_type": "code",
   "execution_count": 2,
   "metadata": {},
   "outputs": [],
   "source": [
    "def get_image(image_path):\n",
    "    image = cv2.imread(image_path)\n",
    "#     image = cv2.cvtColor(image, cv2.COLOR_BGR2RGB)\n",
    "    return image\n",
    "def RGB2HEX(color):\n",
    "    return \"#{:02x}{:02x}{:02x}\".format(int(color[0]), int(color[1]), int(color[2]))"
   ]
  },
  {
   "cell_type": "code",
   "execution_count": null,
   "metadata": {},
   "outputs": [
    {
     "name": "stdout",
     "output_type": "stream",
     "text": [
      "100 250\n",
      "100 90\n"
     ]
    }
   ],
   "source": [
    "image = get_image('./image_eye.jpg')\n",
    "height, width, channels = image.shape \n",
    "print(height, width)\n",
    "image = image[0:100, 80:170]\n",
    "height, width, channels = image.shape \n",
    "print(height, width)\n",
    "modified_image = image\n",
    "cv2.imshow(\"image\", image)\n",
    "cv2.waitKey(0)"
   ]
  },
  {
   "cell_type": "code",
   "execution_count": 6,
   "metadata": {},
   "outputs": [],
   "source": [
    "# modified_image = cv2.resize(image, (600, 400), interpolation = cv2.INTER_AREA)\n",
    "modified_image = modified_image.reshape(modified_image.shape[0]*modified_image.shape[1], 3)\n",
    "# cv2.imshow(\"mod\",modified_image)\n",
    "# cv2.waitKey(0)"
   ]
  },
  {
   "cell_type": "code",
   "execution_count": 7,
   "metadata": {},
   "outputs": [],
   "source": [
    "clf = KMeans(n_clusters = 8)\n",
    "labels = clf.fit_predict(modified_image)"
   ]
  },
  {
   "cell_type": "code",
   "execution_count": 8,
   "metadata": {},
   "outputs": [
    {
     "data": {
      "text/plain": [
       "([<matplotlib.patches.Wedge at 0x7fdd119dae48>,\n",
       "  <matplotlib.patches.Wedge at 0x7fdd119ec390>,\n",
       "  <matplotlib.patches.Wedge at 0x7fdd119ec828>,\n",
       "  <matplotlib.patches.Wedge at 0x7fdd119eccc0>,\n",
       "  <matplotlib.patches.Wedge at 0x7fdd119fc198>,\n",
       "  <matplotlib.patches.Wedge at 0x7fdd119fc630>,\n",
       "  <matplotlib.patches.Wedge at 0x7fdd119fcac8>,\n",
       "  <matplotlib.patches.Wedge at 0x7fdd119fcf60>],\n",
       " [Text(1.0287167329054754, 0.3895406056373134, '#c0c2c7'),\n",
       "  Text(0.4109989942096047, 1.0203331939904208, '#527689'),\n",
       "  Text(-0.509285317388475, 0.9750017771740318, '#273348'),\n",
       "  Text(-1.085603271382745, 0.17738527887928637, '#778587'),\n",
       "  Text(-0.5884365599339278, -0.9293774340563284, '#141f2e'),\n",
       "  Text(0.34612071948125833, -1.0441266434421526, '#959ca4'),\n",
       "  Text(0.7076544695360374, -0.8421550639553678, '#385166'),\n",
       "  Text(1.026248882169922, -0.39599650483935517, '#636969')])"
      ]
     },
     "execution_count": 8,
     "metadata": {},
     "output_type": "execute_result"
    },
    {
     "data": {
      "image/png": "[encoded data removed]",
      "text/plain": [
       "<Figure size 576x432 with 1 Axes>"
      ]
     },
     "metadata": {},
     "output_type": "display_data"
    }
   ],
   "source": [
    "counts = Counter(labels)\n",
    "center_colors = clf.cluster_centers_\n",
    "\n",
    "ordered_colors = [center_colors[i] for i in counts.keys()]\n",
    "hex_colors = [RGB2HEX(ordered_colors[i]) for i in counts.keys()]\n",
    "rgb_colors = [ordered_colors[i] for i in counts.keys()]\n",
    "\n",
    "plt.figure(figsize = (8,6))\n",
    "plt.pie(counts.values(), labels = hex_colors, colors = hex_colors)"
   ]
  },
  {
   "cell_type": "code",
   "execution_count": 9,
   "metadata": {},
   "outputs": [
    {
     "name": "stdout",
     "output_type": "stream",
     "text": [
      "[array([192.75      , 194.97938144, 199.81185567]), array([ 82.19622642, 118.91509434, 137.38396226]), array([39.20195931, 51.90504898, 72.46345139]), array([119.88870793, 133.13735071, 135.99294245]), array([20.99710704, 31.66248795, 46.60655738]), array([149.8583691 , 156.94849785, 164.30758226]), array([ 56.4559721 ,  81.58936356, 102.67131648]), array([ 99.14866667, 105.262     , 105.48      ])]\n"
     ]
    }
   ],
   "source": [
    "print(rgb_colors)"
   ]
  },
  {
   "cell_type": "code",
   "execution_count": 10,
   "metadata": {},
   "outputs": [
    {
     "name": "stdout",
     "output_type": "stream",
     "text": [
      "['silver', 'slategray', 'darkslategray', 'slategray', 'black', 'darkgray', 'darkslategray', 'dimgray']\n"
     ]
    }
   ],
   "source": [
    "# !pip install webcolors\n",
    "import webcolors\n",
    "\n",
    "color_names = []\n",
    "def closest_colour(requested_colour):\n",
    "    min_colours = {}\n",
    "    for key, name in webcolors.CSS3_HEX_TO_NAMES.items():\n",
    "        r_c, g_c, b_c = webcolors.hex_to_rgb(key)\n",
    "        rd = (r_c - requested_colour[0]) ** 2\n",
    "        gd = (g_c - requested_colour[1]) ** 2\n",
    "        bd = (b_c - requested_colour[2]) ** 2\n",
    "        min_colours[(rd + gd + bd)] = name\n",
    "    return min_colours[min(min_colours.keys())]\n",
    "\n",
    "def get_colour_name(requested_colour):\n",
    "    try:\n",
    "        closest_name = actual_name = webcolors.rgb_to_name(requested_colour)\n",
    "    except ValueError:\n",
    "        closest_name = closest_colour(requested_colour)\n",
    "        actual_name = None\n",
    "    return actual_name, closest_name\n",
    "\n",
    "for i in rgb_colors:\n",
    "    requested_colour = [i[0], i[1], i[2]]\n",
    "    actual_name, closest_name = get_colour_name(requested_colour)\n",
    "    if (actual_name != None):\n",
    "        color_names.append(actual_name)\n",
    "    else:\n",
    "        color_names.append(closest_name)\n",
    "\n",
    "print(color_names)"
   ]
  },
  {
   "cell_type": "code",
   "execution_count": null,
   "metadata": {},
   "outputs": [],
   "source": []
  },
  {
   "cell_type": "code",
   "execution_count": null,
   "metadata": {},
   "outputs": [],
   "source": []
  }
 ],
 "metadata": {
  "kernelspec": {
   "display_name": "Python 3",
   "language": "python",
   "name": "python3"
  },
  "language_info": {
   "codemirror_mode": {
    "name": "ipython",
    "version": 3
   },
   "file_extension": ".py",
   "mimetype": "text/x-python",
   "name": "python",
   "nbconvert_exporter": "python",
   "pygments_lexer": "ipython3",
   "version": "3.7.3"
  }
 },
 "nbformat": 4,
 "nbformat_minor": 4
}
